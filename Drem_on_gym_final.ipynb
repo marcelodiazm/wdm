{
  "cells": [
    {
      "cell_type": "markdown",
      "metadata": {
        "id": "xuBdhTB1lLEG"
      },
      "source": [
        "# Instalación:\n",
        "\n",
        "\n",
        "### Las primeras 3 celdas solo se ejecutan 1 vez\n",
        "\n",
        "\n"
      ]
    },
    {
      "cell_type": "code",
      "execution_count": 1,
      "metadata": {
        "colab": {
          "base_uri": "https://localhost:8080/",
          "height": 256
        },
        "id": "0as1tIllSCtg",
        "outputId": "d39851fd-86c4-4505-a6b4-a71fa6b8ecba"
      },
      "outputs": [
        {
          "name": "stdout",
          "output_type": "stream",
          "text": [
            "Drive already mounted at /content/drive; to attempt to forcibly remount, call drive.mount(\"/content/drive\", force_remount=True).\n"
          ]
        },
        {
          "ename": "FileExistsError",
          "evalue": "ignored",
          "output_type": "error",
          "traceback": [
            "\u001b[0;31m---------------------------------------------------------------------------\u001b[0m",
            "\u001b[0;31mFileExistsError\u001b[0m                           Traceback (most recent call last)",
            "\u001b[0;32m<ipython-input-1-f416f74be47a>\u001b[0m in \u001b[0;36m<cell line: 6>\u001b[0;34m()\u001b[0m\n\u001b[1;32m      4\u001b[0m \u001b[0mdrive\u001b[0m\u001b[0;34m.\u001b[0m\u001b[0mmount\u001b[0m\u001b[0;34m(\u001b[0m\u001b[0;34m'/content/drive'\u001b[0m\u001b[0;34m)\u001b[0m\u001b[0;34m\u001b[0m\u001b[0;34m\u001b[0m\u001b[0m\n\u001b[1;32m      5\u001b[0m \u001b[0mnb_path\u001b[0m \u001b[0;34m=\u001b[0m \u001b[0;34m'/content/notebooks'\u001b[0m\u001b[0;34m\u001b[0m\u001b[0;34m\u001b[0m\u001b[0m\n\u001b[0;32m----> 6\u001b[0;31m \u001b[0mos\u001b[0m\u001b[0;34m.\u001b[0m\u001b[0msymlink\u001b[0m\u001b[0;34m(\u001b[0m\u001b[0;34m'/content/drive/My Drive/Colab Notebooks'\u001b[0m\u001b[0;34m,\u001b[0m \u001b[0mnb_path\u001b[0m\u001b[0;34m)\u001b[0m\u001b[0;34m\u001b[0m\u001b[0;34m\u001b[0m\u001b[0m\n\u001b[0m\u001b[1;32m      7\u001b[0m \u001b[0msys\u001b[0m\u001b[0;34m.\u001b[0m\u001b[0mpath\u001b[0m\u001b[0;34m.\u001b[0m\u001b[0minsert\u001b[0m\u001b[0;34m(\u001b[0m\u001b[0;36m0\u001b[0m\u001b[0;34m,\u001b[0m\u001b[0mnb_path\u001b[0m\u001b[0;34m)\u001b[0m\u001b[0;34m\u001b[0m\u001b[0;34m\u001b[0m\u001b[0m\n",
            "\u001b[0;31mFileExistsError\u001b[0m: [Errno 17] File exists: '/content/drive/My Drive/Colab Notebooks' -> '/content/notebooks'"
          ]
        }
      ],
      "source": [
        "import os, sys\n",
        "from google.colab import drive\n",
        "\n",
        "drive.mount('/content/drive')\n",
        "nb_path = '/content/notebooks'\n",
        "os.symlink('/content/drive/My Drive/Colab Notebooks', nb_path)\n",
        "sys.path.insert(0,nb_path)"
      ]
    },
    {
      "cell_type": "markdown",
      "metadata": {
        "id": "xF_sIV7wlZst"
      },
      "source": [
        "## Instalación de biblioteca Stable Baseline\n",
        "\n",
        "\n",
        "\n",
        "### Biblioteca que contiene los modelos\n"
      ]
    },
    {
      "cell_type": "code",
      "execution_count": null,
      "metadata": {
        "colab": {
          "base_uri": "https://localhost:8080/"
        },
        "id": "U_jlT-dRZZIH",
        "outputId": "999ddd69-8612-4164-d485-924b7aa8f4d3"
      },
      "outputs": [
        {
          "name": "stdout",
          "output_type": "stream",
          "text": [
            "Collecting git+https://github.com/Stable-Baselines-Team/stable-baselines3-contrib\n",
            "  Cloning https://github.com/Stable-Baselines-Team/stable-baselines3-contrib to /tmp/pip-req-build-hl240wcw\n",
            "  Running command git clone --filter=blob:none --quiet https://github.com/Stable-Baselines-Team/stable-baselines3-contrib /tmp/pip-req-build-hl240wcw\n",
            "  Resolved https://github.com/Stable-Baselines-Team/stable-baselines3-contrib to commit 707cb0f9cd9104c989a3e4d4cf30965b64ca7339\n",
            "  Installing build dependencies ... \u001b[?25l\u001b[?25hdone\n",
            "  Getting requirements to build wheel ... \u001b[?25l\u001b[?25hdone\n",
            "  Preparing metadata (pyproject.toml) ... \u001b[?25l\u001b[?25hdone\n",
            "Collecting stable-baselines3<3.0,>=2.2.1 (from sb3-contrib==2.2.1)\n",
            "  Using cached stable_baselines3-2.2.1-py3-none-any.whl (181 kB)\n",
            "Collecting gymnasium<0.30,>=0.28.1 (from stable-baselines3<3.0,>=2.2.1->sb3-contrib==2.2.1)\n",
            "  Using cached gymnasium-0.29.1-py3-none-any.whl (953 kB)\n",
            "Requirement already satisfied: numpy>=1.20 in /usr/local/lib/python3.10/dist-packages (from stable-baselines3<3.0,>=2.2.1->sb3-contrib==2.2.1) (1.23.5)\n",
            "Requirement already satisfied: torch>=1.13 in /usr/local/lib/python3.10/dist-packages (from stable-baselines3<3.0,>=2.2.1->sb3-contrib==2.2.1) (2.1.0+cu118)\n",
            "Requirement already satisfied: cloudpickle in /usr/local/lib/python3.10/dist-packages (from stable-baselines3<3.0,>=2.2.1->sb3-contrib==2.2.1) (2.2.1)\n",
            "Requirement already satisfied: pandas in /usr/local/lib/python3.10/dist-packages (from stable-baselines3<3.0,>=2.2.1->sb3-contrib==2.2.1) (1.5.3)\n",
            "Requirement already satisfied: matplotlib in /usr/local/lib/python3.10/dist-packages (from stable-baselines3<3.0,>=2.2.1->sb3-contrib==2.2.1) (3.7.1)\n",
            "Requirement already satisfied: typing-extensions>=4.3.0 in /usr/local/lib/python3.10/dist-packages (from gymnasium<0.30,>=0.28.1->stable-baselines3<3.0,>=2.2.1->sb3-contrib==2.2.1) (4.5.0)\n",
            "Collecting farama-notifications>=0.0.1 (from gymnasium<0.30,>=0.28.1->stable-baselines3<3.0,>=2.2.1->sb3-contrib==2.2.1)\n",
            "  Using cached Farama_Notifications-0.0.4-py3-none-any.whl (2.5 kB)\n",
            "Requirement already satisfied: filelock in /usr/local/lib/python3.10/dist-packages (from torch>=1.13->stable-baselines3<3.0,>=2.2.1->sb3-contrib==2.2.1) (3.13.1)\n",
            "Requirement already satisfied: sympy in /usr/local/lib/python3.10/dist-packages (from torch>=1.13->stable-baselines3<3.0,>=2.2.1->sb3-contrib==2.2.1) (1.12)\n",
            "Requirement already satisfied: networkx in /usr/local/lib/python3.10/dist-packages (from torch>=1.13->stable-baselines3<3.0,>=2.2.1->sb3-contrib==2.2.1) (3.2.1)\n",
            "Requirement already satisfied: jinja2 in /usr/local/lib/python3.10/dist-packages (from torch>=1.13->stable-baselines3<3.0,>=2.2.1->sb3-contrib==2.2.1) (3.1.2)\n",
            "Requirement already satisfied: fsspec in /usr/local/lib/python3.10/dist-packages (from torch>=1.13->stable-baselines3<3.0,>=2.2.1->sb3-contrib==2.2.1) (2023.6.0)\n",
            "Requirement already satisfied: triton==2.1.0 in /usr/local/lib/python3.10/dist-packages (from torch>=1.13->stable-baselines3<3.0,>=2.2.1->sb3-contrib==2.2.1) (2.1.0)\n",
            "Requirement already satisfied: contourpy>=1.0.1 in /usr/local/lib/python3.10/dist-packages (from matplotlib->stable-baselines3<3.0,>=2.2.1->sb3-contrib==2.2.1) (1.2.0)\n",
            "Requirement already satisfied: cycler>=0.10 in /usr/local/lib/python3.10/dist-packages (from matplotlib->stable-baselines3<3.0,>=2.2.1->sb3-contrib==2.2.1) (0.12.1)\n",
            "Requirement already satisfied: fonttools>=4.22.0 in /usr/local/lib/python3.10/dist-packages (from matplotlib->stable-baselines3<3.0,>=2.2.1->sb3-contrib==2.2.1) (4.44.3)\n",
            "Requirement already satisfied: kiwisolver>=1.0.1 in /usr/local/lib/python3.10/dist-packages (from matplotlib->stable-baselines3<3.0,>=2.2.1->sb3-contrib==2.2.1) (1.4.5)\n",
            "Requirement already satisfied: packaging>=20.0 in /usr/local/lib/python3.10/dist-packages (from matplotlib->stable-baselines3<3.0,>=2.2.1->sb3-contrib==2.2.1) (23.2)\n",
            "Requirement already satisfied: pillow>=6.2.0 in /usr/local/lib/python3.10/dist-packages (from matplotlib->stable-baselines3<3.0,>=2.2.1->sb3-contrib==2.2.1) (9.4.0)\n",
            "Requirement already satisfied: pyparsing>=2.3.1 in /usr/local/lib/python3.10/dist-packages (from matplotlib->stable-baselines3<3.0,>=2.2.1->sb3-contrib==2.2.1) (3.1.1)\n",
            "Requirement already satisfied: python-dateutil>=2.7 in /usr/local/lib/python3.10/dist-packages (from matplotlib->stable-baselines3<3.0,>=2.2.1->sb3-contrib==2.2.1) (2.8.2)\n",
            "Requirement already satisfied: pytz>=2020.1 in /usr/local/lib/python3.10/dist-packages (from pandas->stable-baselines3<3.0,>=2.2.1->sb3-contrib==2.2.1) (2023.3.post1)\n",
            "Requirement already satisfied: six>=1.5 in /usr/local/lib/python3.10/dist-packages (from python-dateutil>=2.7->matplotlib->stable-baselines3<3.0,>=2.2.1->sb3-contrib==2.2.1) (1.16.0)\n",
            "Requirement already satisfied: MarkupSafe>=2.0 in /usr/local/lib/python3.10/dist-packages (from jinja2->torch>=1.13->stable-baselines3<3.0,>=2.2.1->sb3-contrib==2.2.1) (2.1.3)\n",
            "Requirement already satisfied: mpmath>=0.19 in /usr/local/lib/python3.10/dist-packages (from sympy->torch>=1.13->stable-baselines3<3.0,>=2.2.1->sb3-contrib==2.2.1) (1.3.0)\n",
            "Building wheels for collected packages: sb3-contrib\n",
            "  Building wheel for sb3-contrib (pyproject.toml) ... \u001b[?25l\u001b[?25hdone\n",
            "  Created wheel for sb3-contrib: filename=sb3_contrib-2.2.1-py3-none-any.whl size=80668 sha256=99c650767f99181aebf0b177060706bc9e87222b80a032605d3c5213ded7341d\n",
            "  Stored in directory: /tmp/pip-ephem-wheel-cache-gqfi9_1t/wheels/f8/e1/97/7e886248901c65ffe4ff7a9c16bccfbde992692ac10d99ee41\n",
            "Successfully built sb3-contrib\n",
            "Installing collected packages: farama-notifications, gymnasium, stable-baselines3, sb3-contrib\n",
            "Successfully installed farama-notifications-0.0.4 gymnasium-0.29.1 sb3-contrib-2.2.1 stable-baselines3-2.2.1\n"
          ]
        }
      ],
      "source": [
        "!pip install --target=$nb_path git+https://github.com/Stable-Baselines-Team/stable-baselines3-contrib"
      ]
    },
    {
      "cell_type": "markdown",
      "metadata": {
        "id": "ZBLhpjZZlmfG"
      },
      "source": [
        "## Instalación del Dream On Gym\n",
        "\n",
        "### Contiene el ambiente de redes opticas y el simulador"
      ]
    },
    {
      "cell_type": "code",
      "execution_count": null,
      "metadata": {
        "colab": {
          "base_uri": "https://localhost:8080/"
        },
        "id": "aKS63K7QsAIn",
        "outputId": "3daf2cfe-fa17-4f73-eda3-964f5cb53f60"
      },
      "outputs": [
        {
          "name": "stdout",
          "output_type": "stream",
          "text": [
            "Collecting dream-on-gym-v2==0.0.6\n",
            "  Downloading dream_on_gym_v2-0.0.6.tar.gz (27 kB)\n",
            "  Preparing metadata (setup.py) ... \u001b[?25l\u001b[?25hdone\n",
            "Requirement already satisfied: numpy in /usr/local/lib/python3.10/dist-packages (from dream-on-gym-v2==0.0.6) (1.23.5)\n",
            "Requirement already satisfied: jsonschema in /usr/local/lib/python3.10/dist-packages (from dream-on-gym-v2==0.0.6) (4.19.2)\n",
            "Requirement already satisfied: gymnasium in /usr/local/lib/python3.10/dist-packages (from dream-on-gym-v2==0.0.6) (0.29.1)\n",
            "Requirement already satisfied: importlib-metadata in /usr/local/lib/python3.10/dist-packages (from dream-on-gym-v2==0.0.6) (6.8.0)\n",
            "Collecting tensorflow==2.12.0 (from dream-on-gym-v2==0.0.6)\n",
            "  Downloading tensorflow-2.12.0-cp310-cp310-manylinux_2_17_x86_64.manylinux2014_x86_64.whl (585.9 MB)\n",
            "\u001b[2K     \u001b[90m━━━━━━━━━━━━━━━━━━━━━━━━━━━━━━━━━━━━━━━━\u001b[0m \u001b[32m585.9/585.9 MB\u001b[0m \u001b[31m1.4 MB/s\u001b[0m eta \u001b[36m0:00:00\u001b[0m\n",
            "\u001b[?25hRequirement already satisfied: protobuf in /usr/local/lib/python3.10/dist-packages (from dream-on-gym-v2==0.0.6) (3.20.3)\n",
            "Requirement already satisfied: stable-baselines3[extra] in /usr/local/lib/python3.10/dist-packages (from dream-on-gym-v2==0.0.6) (2.2.1)\n",
            "Collecting mpi4py (from dream-on-gym-v2==0.0.6)\n",
            "  Downloading mpi4py-3.1.5.tar.gz (2.5 MB)\n",
            "\u001b[2K     \u001b[90m━━━━━━━━━━━━━━━━━━━━━━━━━━━━━━━━━━━━━━━━\u001b[0m \u001b[32m2.5/2.5 MB\u001b[0m \u001b[31m97.7 MB/s\u001b[0m eta \u001b[36m0:00:00\u001b[0m\n",
            "\u001b[?25h  Installing build dependencies ... \u001b[?25l\u001b[?25hdone\n",
            "  Getting requirements to build wheel ... \u001b[?25l\u001b[?25hdone\n",
            "  Preparing metadata (pyproject.toml) ... \u001b[?25l\u001b[?25hdone\n",
            "Requirement already satisfied: absl-py>=1.0.0 in /usr/local/lib/python3.10/dist-packages (from tensorflow==2.12.0->dream-on-gym-v2==0.0.6) (1.4.0)\n",
            "Requirement already satisfied: astunparse>=1.6.0 in /usr/local/lib/python3.10/dist-packages (from tensorflow==2.12.0->dream-on-gym-v2==0.0.6) (1.6.3)\n",
            "Requirement already satisfied: flatbuffers>=2.0 in /usr/local/lib/python3.10/dist-packages (from tensorflow==2.12.0->dream-on-gym-v2==0.0.6) (23.5.26)\n",
            "Collecting gast<=0.4.0,>=0.2.1 (from tensorflow==2.12.0->dream-on-gym-v2==0.0.6)\n",
            "  Downloading gast-0.4.0-py3-none-any.whl (9.8 kB)\n",
            "Requirement already satisfied: google-pasta>=0.1.1 in /usr/local/lib/python3.10/dist-packages (from tensorflow==2.12.0->dream-on-gym-v2==0.0.6) (0.2.0)\n",
            "Requirement already satisfied: grpcio<2.0,>=1.24.3 in /usr/local/lib/python3.10/dist-packages (from tensorflow==2.12.0->dream-on-gym-v2==0.0.6) (1.59.2)\n",
            "Requirement already satisfied: h5py>=2.9.0 in /usr/local/lib/python3.10/dist-packages (from tensorflow==2.12.0->dream-on-gym-v2==0.0.6) (3.9.0)\n",
            "Requirement already satisfied: jax>=0.3.15 in /usr/local/lib/python3.10/dist-packages (from tensorflow==2.12.0->dream-on-gym-v2==0.0.6) (0.4.20)\n",
            "Collecting keras<2.13,>=2.12.0 (from tensorflow==2.12.0->dream-on-gym-v2==0.0.6)\n",
            "  Downloading keras-2.12.0-py2.py3-none-any.whl (1.7 MB)\n",
            "\u001b[2K     \u001b[90m━━━━━━━━━━━━━━━━━━━━━━━━━━━━━━━━━━━━━━━━\u001b[0m \u001b[32m1.7/1.7 MB\u001b[0m \u001b[31m64.2 MB/s\u001b[0m eta \u001b[36m0:00:00\u001b[0m\n",
            "\u001b[?25hRequirement already satisfied: libclang>=13.0.0 in /usr/local/lib/python3.10/dist-packages (from tensorflow==2.12.0->dream-on-gym-v2==0.0.6) (16.0.6)\n",
            "Requirement already satisfied: opt-einsum>=2.3.2 in /usr/local/lib/python3.10/dist-packages (from tensorflow==2.12.0->dream-on-gym-v2==0.0.6) (3.3.0)\n",
            "Requirement already satisfied: packaging in /usr/local/lib/python3.10/dist-packages (from tensorflow==2.12.0->dream-on-gym-v2==0.0.6) (23.2)\n",
            "Requirement already satisfied: setuptools in /usr/local/lib/python3.10/dist-packages (from tensorflow==2.12.0->dream-on-gym-v2==0.0.6) (67.7.2)\n",
            "Requirement already satisfied: six>=1.12.0 in /usr/local/lib/python3.10/dist-packages (from tensorflow==2.12.0->dream-on-gym-v2==0.0.6) (1.16.0)\n",
            "Collecting tensorboard<2.13,>=2.12 (from tensorflow==2.12.0->dream-on-gym-v2==0.0.6)\n",
            "  Downloading tensorboard-2.12.3-py3-none-any.whl (5.6 MB)\n",
            "\u001b[2K     \u001b[90m━━━━━━━━━━━━━━━━━━━━━━━━━━━━━━━━━━━━━━━━\u001b[0m \u001b[32m5.6/5.6 MB\u001b[0m \u001b[31m64.8 MB/s\u001b[0m eta \u001b[36m0:00:00\u001b[0m\n",
            "\u001b[?25hCollecting tensorflow-estimator<2.13,>=2.12.0 (from tensorflow==2.12.0->dream-on-gym-v2==0.0.6)\n",
            "  Downloading tensorflow_estimator-2.12.0-py2.py3-none-any.whl (440 kB)\n",
            "\u001b[2K     \u001b[90m━━━━━━━━━━━━━━━━━━━━━━━━━━━━━━━━━━━━━━━━\u001b[0m \u001b[32m440.7/440.7 kB\u001b[0m \u001b[31m37.5 MB/s\u001b[0m eta \u001b[36m0:00:00\u001b[0m\n",
            "\u001b[?25hRequirement already satisfied: termcolor>=1.1.0 in /usr/local/lib/python3.10/dist-packages (from tensorflow==2.12.0->dream-on-gym-v2==0.0.6) (2.3.0)\n",
            "Requirement already satisfied: typing-extensions>=3.6.6 in /usr/local/lib/python3.10/dist-packages (from tensorflow==2.12.0->dream-on-gym-v2==0.0.6) (4.5.0)\n",
            "Requirement already satisfied: wrapt<1.15,>=1.11.0 in /usr/local/lib/python3.10/dist-packages (from tensorflow==2.12.0->dream-on-gym-v2==0.0.6) (1.14.1)\n",
            "Requirement already satisfied: tensorflow-io-gcs-filesystem>=0.23.1 in /usr/local/lib/python3.10/dist-packages (from tensorflow==2.12.0->dream-on-gym-v2==0.0.6) (0.34.0)\n",
            "Requirement already satisfied: cloudpickle>=1.2.0 in /usr/local/lib/python3.10/dist-packages (from gymnasium->dream-on-gym-v2==0.0.6) (2.2.1)\n",
            "Requirement already satisfied: farama-notifications>=0.0.1 in /usr/local/lib/python3.10/dist-packages (from gymnasium->dream-on-gym-v2==0.0.6) (0.0.4)\n",
            "Requirement already satisfied: zipp>=0.5 in /usr/local/lib/python3.10/dist-packages (from importlib-metadata->dream-on-gym-v2==0.0.6) (3.17.0)\n",
            "Requirement already satisfied: attrs>=22.2.0 in /usr/local/lib/python3.10/dist-packages (from jsonschema->dream-on-gym-v2==0.0.6) (23.1.0)\n",
            "Requirement already satisfied: jsonschema-specifications>=2023.03.6 in /usr/local/lib/python3.10/dist-packages (from jsonschema->dream-on-gym-v2==0.0.6) (2023.11.1)\n",
            "Requirement already satisfied: referencing>=0.28.4 in /usr/local/lib/python3.10/dist-packages (from jsonschema->dream-on-gym-v2==0.0.6) (0.31.0)\n",
            "Requirement already satisfied: rpds-py>=0.7.1 in /usr/local/lib/python3.10/dist-packages (from jsonschema->dream-on-gym-v2==0.0.6) (0.13.0)\n",
            "Requirement already satisfied: torch>=1.13 in /usr/local/lib/python3.10/dist-packages (from stable-baselines3[extra]->dream-on-gym-v2==0.0.6) (2.1.0+cu118)\n",
            "Requirement already satisfied: pandas in /usr/local/lib/python3.10/dist-packages (from stable-baselines3[extra]->dream-on-gym-v2==0.0.6) (1.5.3)\n",
            "Requirement already satisfied: matplotlib in /usr/local/lib/python3.10/dist-packages (from stable-baselines3[extra]->dream-on-gym-v2==0.0.6) (3.7.1)\n",
            "Requirement already satisfied: opencv-python in /usr/local/lib/python3.10/dist-packages (from stable-baselines3[extra]->dream-on-gym-v2==0.0.6) (4.8.0.76)\n",
            "Requirement already satisfied: pygame in /usr/local/lib/python3.10/dist-packages (from stable-baselines3[extra]->dream-on-gym-v2==0.0.6) (2.5.2)\n",
            "Requirement already satisfied: psutil in /usr/local/lib/python3.10/dist-packages (from stable-baselines3[extra]->dream-on-gym-v2==0.0.6) (5.9.5)\n",
            "Requirement already satisfied: tqdm in /usr/local/lib/python3.10/dist-packages (from stable-baselines3[extra]->dream-on-gym-v2==0.0.6) (4.66.1)\n",
            "Requirement already satisfied: rich in /usr/local/lib/python3.10/dist-packages (from stable-baselines3[extra]->dream-on-gym-v2==0.0.6) (13.7.0)\n",
            "Collecting shimmy[atari]~=1.3.0 (from stable-baselines3[extra]->dream-on-gym-v2==0.0.6)\n",
            "  Downloading Shimmy-1.3.0-py3-none-any.whl (37 kB)\n",
            "Requirement already satisfied: pillow in /usr/local/lib/python3.10/dist-packages (from stable-baselines3[extra]->dream-on-gym-v2==0.0.6) (9.4.0)\n",
            "Collecting autorom[accept-rom-license]~=0.6.1 (from stable-baselines3[extra]->dream-on-gym-v2==0.0.6)\n",
            "  Downloading AutoROM-0.6.1-py3-none-any.whl (9.4 kB)\n",
            "Requirement already satisfied: wheel<1.0,>=0.23.0 in /usr/local/lib/python3.10/dist-packages (from astunparse>=1.6.0->tensorflow==2.12.0->dream-on-gym-v2==0.0.6) (0.41.3)\n",
            "Requirement already satisfied: click in /usr/local/lib/python3.10/dist-packages (from autorom[accept-rom-license]~=0.6.1->stable-baselines3[extra]->dream-on-gym-v2==0.0.6) (8.1.7)\n",
            "Requirement already satisfied: requests in /usr/local/lib/python3.10/dist-packages (from autorom[accept-rom-license]~=0.6.1->stable-baselines3[extra]->dream-on-gym-v2==0.0.6) (2.31.0)\n",
            "Collecting AutoROM.accept-rom-license (from autorom[accept-rom-license]~=0.6.1->stable-baselines3[extra]->dream-on-gym-v2==0.0.6)\n",
            "  Downloading AutoROM.accept-rom-license-0.6.1.tar.gz (434 kB)\n",
            "\u001b[2K     \u001b[90m━━━━━━━━━━━━━━━━━━━━━━━━━━━━━━━━━━━━━━━━\u001b[0m \u001b[32m434.7/434.7 kB\u001b[0m \u001b[31m53.8 MB/s\u001b[0m eta \u001b[36m0:00:00\u001b[0m\n",
            "\u001b[?25h  Installing build dependencies ... \u001b[?25l\u001b[?25hdone\n",
            "  Getting requirements to build wheel ... \u001b[?25l\u001b[?25hdone\n",
            "  Preparing metadata (pyproject.toml) ... \u001b[?25l\u001b[?25hdone\n",
            "Requirement already satisfied: ml-dtypes>=0.2.0 in /usr/local/lib/python3.10/dist-packages (from jax>=0.3.15->tensorflow==2.12.0->dream-on-gym-v2==0.0.6) (0.2.0)\n",
            "Requirement already satisfied: scipy>=1.9 in /usr/local/lib/python3.10/dist-packages (from jax>=0.3.15->tensorflow==2.12.0->dream-on-gym-v2==0.0.6) (1.11.3)\n",
            "Collecting ale-py~=0.8.1 (from shimmy[atari]~=1.3.0->stable-baselines3[extra]->dream-on-gym-v2==0.0.6)\n",
            "  Downloading ale_py-0.8.1-cp310-cp310-manylinux_2_17_x86_64.manylinux2014_x86_64.whl (1.7 MB)\n",
            "\u001b[2K     \u001b[90m━━━━━━━━━━━━━━━━━━━━━━━━━━━━━━━━━━━━━━━━\u001b[0m \u001b[32m1.7/1.7 MB\u001b[0m \u001b[31m89.8 MB/s\u001b[0m eta \u001b[36m0:00:00\u001b[0m\n",
            "\u001b[?25hRequirement already satisfied: google-auth<3,>=1.6.3 in /usr/local/lib/python3.10/dist-packages (from tensorboard<2.13,>=2.12->tensorflow==2.12.0->dream-on-gym-v2==0.0.6) (2.17.3)\n",
            "Requirement already satisfied: google-auth-oauthlib<1.1,>=0.5 in /usr/local/lib/python3.10/dist-packages (from tensorboard<2.13,>=2.12->tensorflow==2.12.0->dream-on-gym-v2==0.0.6) (1.0.0)\n",
            "Requirement already satisfied: markdown>=2.6.8 in /usr/local/lib/python3.10/dist-packages (from tensorboard<2.13,>=2.12->tensorflow==2.12.0->dream-on-gym-v2==0.0.6) (3.5.1)\n",
            "Requirement already satisfied: tensorboard-data-server<0.8.0,>=0.7.0 in /usr/local/lib/python3.10/dist-packages (from tensorboard<2.13,>=2.12->tensorflow==2.12.0->dream-on-gym-v2==0.0.6) (0.7.2)\n",
            "Requirement already satisfied: werkzeug>=1.0.1 in /usr/local/lib/python3.10/dist-packages (from tensorboard<2.13,>=2.12->tensorflow==2.12.0->dream-on-gym-v2==0.0.6) (3.0.1)\n",
            "Requirement already satisfied: filelock in /usr/local/lib/python3.10/dist-packages (from torch>=1.13->stable-baselines3[extra]->dream-on-gym-v2==0.0.6) (3.13.1)\n",
            "Requirement already satisfied: sympy in /usr/local/lib/python3.10/dist-packages (from torch>=1.13->stable-baselines3[extra]->dream-on-gym-v2==0.0.6) (1.12)\n",
            "Requirement already satisfied: networkx in /usr/local/lib/python3.10/dist-packages (from torch>=1.13->stable-baselines3[extra]->dream-on-gym-v2==0.0.6) (3.2.1)\n",
            "Requirement already satisfied: jinja2 in /usr/local/lib/python3.10/dist-packages (from torch>=1.13->stable-baselines3[extra]->dream-on-gym-v2==0.0.6) (3.1.2)\n",
            "Requirement already satisfied: fsspec in /usr/local/lib/python3.10/dist-packages (from torch>=1.13->stable-baselines3[extra]->dream-on-gym-v2==0.0.6) (2023.6.0)\n",
            "Requirement already satisfied: triton==2.1.0 in /usr/local/lib/python3.10/dist-packages (from torch>=1.13->stable-baselines3[extra]->dream-on-gym-v2==0.0.6) (2.1.0)\n",
            "Requirement already satisfied: contourpy>=1.0.1 in /usr/local/lib/python3.10/dist-packages (from matplotlib->stable-baselines3[extra]->dream-on-gym-v2==0.0.6) (1.2.0)\n",
            "Requirement already satisfied: cycler>=0.10 in /usr/local/lib/python3.10/dist-packages (from matplotlib->stable-baselines3[extra]->dream-on-gym-v2==0.0.6) (0.12.1)\n",
            "Requirement already satisfied: fonttools>=4.22.0 in /usr/local/lib/python3.10/dist-packages (from matplotlib->stable-baselines3[extra]->dream-on-gym-v2==0.0.6) (4.44.3)\n",
            "Requirement already satisfied: kiwisolver>=1.0.1 in /usr/local/lib/python3.10/dist-packages (from matplotlib->stable-baselines3[extra]->dream-on-gym-v2==0.0.6) (1.4.5)\n",
            "Requirement already satisfied: pyparsing>=2.3.1 in /usr/local/lib/python3.10/dist-packages (from matplotlib->stable-baselines3[extra]->dream-on-gym-v2==0.0.6) (3.1.1)\n",
            "Requirement already satisfied: python-dateutil>=2.7 in /usr/local/lib/python3.10/dist-packages (from matplotlib->stable-baselines3[extra]->dream-on-gym-v2==0.0.6) (2.8.2)\n",
            "Requirement already satisfied: pytz>=2020.1 in /usr/local/lib/python3.10/dist-packages (from pandas->stable-baselines3[extra]->dream-on-gym-v2==0.0.6) (2023.3.post1)\n",
            "Requirement already satisfied: markdown-it-py>=2.2.0 in /usr/local/lib/python3.10/dist-packages (from rich->stable-baselines3[extra]->dream-on-gym-v2==0.0.6) (3.0.0)\n",
            "Requirement already satisfied: pygments<3.0.0,>=2.13.0 in /usr/local/lib/python3.10/dist-packages (from rich->stable-baselines3[extra]->dream-on-gym-v2==0.0.6) (2.16.1)\n",
            "Requirement already satisfied: importlib-resources in /usr/local/lib/python3.10/dist-packages (from ale-py~=0.8.1->shimmy[atari]~=1.3.0->stable-baselines3[extra]->dream-on-gym-v2==0.0.6) (6.1.1)\n",
            "Requirement already satisfied: cachetools<6.0,>=2.0.0 in /usr/local/lib/python3.10/dist-packages (from google-auth<3,>=1.6.3->tensorboard<2.13,>=2.12->tensorflow==2.12.0->dream-on-gym-v2==0.0.6) (5.3.2)\n",
            "Requirement already satisfied: pyasn1-modules>=0.2.1 in /usr/local/lib/python3.10/dist-packages (from google-auth<3,>=1.6.3->tensorboard<2.13,>=2.12->tensorflow==2.12.0->dream-on-gym-v2==0.0.6) (0.3.0)\n",
            "Requirement already satisfied: rsa<5,>=3.1.4 in /usr/local/lib/python3.10/dist-packages (from google-auth<3,>=1.6.3->tensorboard<2.13,>=2.12->tensorflow==2.12.0->dream-on-gym-v2==0.0.6) (4.9)\n",
            "Requirement already satisfied: requests-oauthlib>=0.7.0 in /usr/local/lib/python3.10/dist-packages (from google-auth-oauthlib<1.1,>=0.5->tensorboard<2.13,>=2.12->tensorflow==2.12.0->dream-on-gym-v2==0.0.6) (1.3.1)\n",
            "Requirement already satisfied: mdurl~=0.1 in /usr/local/lib/python3.10/dist-packages (from markdown-it-py>=2.2.0->rich->stable-baselines3[extra]->dream-on-gym-v2==0.0.6) (0.1.2)\n",
            "Requirement already satisfied: charset-normalizer<4,>=2 in /usr/local/lib/python3.10/dist-packages (from requests->autorom[accept-rom-license]~=0.6.1->stable-baselines3[extra]->dream-on-gym-v2==0.0.6) (3.3.2)\n",
            "Requirement already satisfied: idna<4,>=2.5 in /usr/local/lib/python3.10/dist-packages (from requests->autorom[accept-rom-license]~=0.6.1->stable-baselines3[extra]->dream-on-gym-v2==0.0.6) (3.4)\n",
            "Requirement already satisfied: urllib3<3,>=1.21.1 in /usr/local/lib/python3.10/dist-packages (from requests->autorom[accept-rom-license]~=0.6.1->stable-baselines3[extra]->dream-on-gym-v2==0.0.6) (2.0.7)\n",
            "Requirement already satisfied: certifi>=2017.4.17 in /usr/local/lib/python3.10/dist-packages (from requests->autorom[accept-rom-license]~=0.6.1->stable-baselines3[extra]->dream-on-gym-v2==0.0.6) (2023.7.22)\n",
            "Requirement already satisfied: MarkupSafe>=2.1.1 in /usr/local/lib/python3.10/dist-packages (from werkzeug>=1.0.1->tensorboard<2.13,>=2.12->tensorflow==2.12.0->dream-on-gym-v2==0.0.6) (2.1.3)\n",
            "Requirement already satisfied: mpmath>=0.19 in /usr/local/lib/python3.10/dist-packages (from sympy->torch>=1.13->stable-baselines3[extra]->dream-on-gym-v2==0.0.6) (1.3.0)\n",
            "Requirement already satisfied: pyasn1<0.6.0,>=0.4.6 in /usr/local/lib/python3.10/dist-packages (from pyasn1-modules>=0.2.1->google-auth<3,>=1.6.3->tensorboard<2.13,>=2.12->tensorflow==2.12.0->dream-on-gym-v2==0.0.6) (0.5.0)\n",
            "Requirement already satisfied: oauthlib>=3.0.0 in /usr/local/lib/python3.10/dist-packages (from requests-oauthlib>=0.7.0->google-auth-oauthlib<1.1,>=0.5->tensorboard<2.13,>=2.12->tensorflow==2.12.0->dream-on-gym-v2==0.0.6) (3.2.2)\n",
            "Building wheels for collected packages: dream-on-gym-v2, mpi4py, AutoROM.accept-rom-license\n",
            "  Building wheel for dream-on-gym-v2 (setup.py) ... \u001b[?25l\u001b[?25hdone\n",
            "  Created wheel for dream-on-gym-v2: filename=dream_on_gym_v2-0.0.6-py3-none-any.whl size=29791 sha256=c7908c42803a8c55f7d0a8128af380eac9b60897356df2717d368b48dd6e7803\n",
            "  Stored in directory: /root/.cache/pip/wheels/48/9e/40/7b6d252caab2449f6cebde32641c8b8f5f19f952fb05e10a67\n",
            "  Building wheel for mpi4py (pyproject.toml) ... \u001b[?25l\u001b[?25hdone\n",
            "  Created wheel for mpi4py: filename=mpi4py-3.1.5-cp310-cp310-linux_x86_64.whl size=2746506 sha256=b96929d8b561eb51201980d0a7682dca796769ab37b13d3fa4e35e2fa74d0ca6\n",
            "  Stored in directory: /root/.cache/pip/wheels/18/2b/7f/c852523089e9182b45fca50ff56f49a51eeb6284fd25a66713\n",
            "  Building wheel for AutoROM.accept-rom-license (pyproject.toml) ... \u001b[?25l\u001b[?25hdone\n",
            "  Created wheel for AutoROM.accept-rom-license: filename=AutoROM.accept_rom_license-0.6.1-py3-none-any.whl size=446660 sha256=5a8f304cdf43704082cf49553473f4c4311330fca6f06a01c3042cd480114e9c\n",
            "  Stored in directory: /root/.cache/pip/wheels/6b/1b/ef/a43ff1a2f1736d5711faa1ba4c1f61be1131b8899e6a057811\n",
            "Successfully built dream-on-gym-v2 mpi4py AutoROM.accept-rom-license\n",
            "Installing collected packages: tensorflow-estimator, mpi4py, keras, gast, ale-py, shimmy, AutoROM.accept-rom-license, autorom, tensorboard, tensorflow, dream-on-gym-v2\n",
            "  Attempting uninstall: tensorflow-estimator\n",
            "    Found existing installation: tensorflow-estimator 2.14.0\n",
            "    Uninstalling tensorflow-estimator-2.14.0:\n",
            "      Successfully uninstalled tensorflow-estimator-2.14.0\n",
            "  Attempting uninstall: keras\n",
            "    Found existing installation: keras 2.14.0\n",
            "    Uninstalling keras-2.14.0:\n",
            "      Successfully uninstalled keras-2.14.0\n",
            "  Attempting uninstall: gast\n",
            "    Found existing installation: gast 0.5.4\n",
            "    Uninstalling gast-0.5.4:\n",
            "      Successfully uninstalled gast-0.5.4\n",
            "  Attempting uninstall: tensorboard\n",
            "    Found existing installation: tensorboard 2.14.1\n",
            "    Uninstalling tensorboard-2.14.1:\n",
            "      Successfully uninstalled tensorboard-2.14.1\n",
            "  Attempting uninstall: tensorflow\n",
            "    Found existing installation: tensorflow 2.14.0\n",
            "    Uninstalling tensorflow-2.14.0:\n",
            "      Successfully uninstalled tensorflow-2.14.0\n",
            "Successfully installed AutoROM.accept-rom-license-0.6.1 ale-py-0.8.1 autorom-0.6.1 dream-on-gym-v2-0.0.6 gast-0.4.0 keras-2.12.0 mpi4py-3.1.5 shimmy-1.3.0 tensorboard-2.12.3 tensorflow-2.12.0 tensorflow-estimator-2.12.0\n"
          ]
        }
      ],
      "source": [
        "!pip install --target=$nb_path dream-on-gym-v2==0.0.6"
      ]
    },
    {
      "cell_type": "markdown",
      "metadata": {
        "id": "XLcX7NXflynO"
      },
      "source": [
        "\n",
        "\n",
        "---\n",
        "\n",
        "# Codigo\n",
        "\n"
      ]
    },
    {
      "cell_type": "code",
      "execution_count": 2,
      "metadata": {
        "colab": {
          "base_uri": "https://localhost:8080/"
        },
        "id": "2ieN1imCaHt9",
        "outputId": "7f1470ac-a0ff-4be8-aec4-82bc9f8d7d6d"
      },
      "outputs": [
        {
          "name": "stdout",
          "output_type": "stream",
          "text": [
            "Drive already mounted at /content/drive; to attempt to forcibly remount, call drive.mount(\"/content/drive\", force_remount=True).\n"
          ]
        }
      ],
      "source": [
        "import os\n",
        "import sys\n",
        "from google.colab import drive\n",
        "drive.mount('/content/drive')\n",
        "sys.path.append('/content/drive/My Drive/Colab Notebooks')\n"
      ]
    },
    {
      "cell_type": "code",
      "execution_count": 3,
      "metadata": {
        "id": "h_ylEWaU-RCH"
      },
      "outputs": [],
      "source": [
        "import numpy as np\n",
        "import matplotlib.pyplot as plt\n",
        "import torch as th\n",
        "\n",
        "from sb3_contrib import TRPO\n",
        "from sb3_contrib.trpo import MlpPolicy as MLP_TRPO\n",
        "\n",
        "from dreamongymv2.simNetPy import *\n",
        "from dreamongymv2.gym_basic import *\n",
        "import gymnasium\n",
        "\n",
        "sys.modules[\"gym\"] = gymnasium"
      ]
    },
    {
      "cell_type": "code",
      "execution_count": 4,
      "metadata": {
        "id": "PkmGkFRkATzZ"
      },
      "outputs": [],
      "source": [
        "bands = ['L','C','S','E']\n",
        "\n",
        "episodeRewardAccum = 0\n",
        "iteration = 0\n",
        "episodeIteration = 100\n",
        "episodeRewardsArray = []"
      ]
    },
    {
      "cell_type": "code",
      "execution_count": 5,
      "metadata": {
        "id": "UmFwaqFlCM6J"
      },
      "outputs": [],
      "source": [
        "def getBand(actionBand):\n",
        "    if (actionBand == 0):\n",
        "        return 'C'\n",
        "    elif (actionBand == 1):\n",
        "        return 'L'\n",
        "    elif (actionBand == 2):\n",
        "        return 'S'\n",
        "    elif (actionBand == 3):\n",
        "        return 'E'\n",
        "\n",
        "    return 'NoBand'"
      ]
    },
    {
      "cell_type": "code",
      "execution_count": 6,
      "metadata": {
        "id": "jaXvI3WWAWtn"
      },
      "outputs": [],
      "source": [
        "def reward():\n",
        "    global episodeRewardAccum\n",
        "    global episodeIteration\n",
        "    global episodeRewardsArray\n",
        "    global iteration\n",
        "\n",
        "    iteration = iteration + 1\n",
        "    if (iteration % episodeIteration) == 0:\n",
        "        episodeRewardsArray.append(episodeRewardAccum)\n",
        "        episodeRewardAccum = 0\n",
        "\n",
        "    value = env.getSimulator().lastConnectionIsAllocated()\n",
        "    if (value.name == Controller.Status.Not_Allocated.name):\n",
        "        #print(value.name)\n",
        "        value = -1\n",
        "    else:\n",
        "        value = 1\n",
        "    episodeRewardAccum = episodeRewardAccum + value\n",
        "    return value"
      ]
    },
    {
      "cell_type": "code",
      "execution_count": 7,
      "metadata": {
        "id": "AZw9cFAOAZU7"
      },
      "outputs": [],
      "source": [
        "def state():\n",
        "    connectionEvent = env.getSimulator().connectionEvent\n",
        "    route = env.getSimulator().controller.path[connectionEvent.source][connectionEvent.destination][0]\n",
        "    slotsQuantity = 0\n",
        "    for i in range(4):\n",
        "        slotsQuantity = slotsQuantity + route[0].getSlots(getBand(i))\n",
        "    obs = [0] * slotsQuantity\n",
        "    slotInit = 0\n",
        "    for i in range(len(route)):\n",
        "        slotIterator = 0\n",
        "        for j in range(4):\n",
        "            slotInit = slotIterator\n",
        "            for k in range(slotInit, slotInit + route[i].getSlots(getBand(j))):\n",
        "                slotIterator = slotIterator + 1\n",
        "                if route[i].getSlot(k-slotInit,getBand(j)):\n",
        "                    obs[k] = obs[k] + 1\n",
        "    return obs\n"
      ]
    },
    {
      "cell_type": "code",
      "execution_count": 8,
      "metadata": {
        "id": "iya2BfJ-CLzF"
      },
      "outputs": [],
      "source": [
        "def first_fit_algorithm(src: int, dst: int, b: BitRate, c: Connection, n: Network, path, action):\n",
        "    numberOfSlots = b.getNumberofSlots(0)\n",
        "    link_ids = path[src][dst][0]\n",
        "    c.bandSelected = \"C\"\n",
        "    general_link = []\n",
        "    for _ in range(n.getLink(0).getSlots(c.bandSelected)):\n",
        "        general_link.append(False)\n",
        "\n",
        "    for link in link_ids:\n",
        "        link = n.getLink(link.id)\n",
        "        link.bandSelected = c.bandSelected\n",
        "        for slot in range(link.getSlots(c.bandSelected)):\n",
        "            general_link[slot] = general_link[slot] or link.getSlot(slot,c.bandSelected)\n",
        "    currentNumberSlots = 0\n",
        "    currentSlotIndex = 0\n",
        "    for j in range(len(general_link)):\n",
        "        if not general_link[j]:\n",
        "            currentNumberSlots += 1\n",
        "        else:\n",
        "            currentNumberSlots = 0\n",
        "            currentSlotIndex = j + 1\n",
        "        if currentNumberSlots == numberOfSlots:\n",
        "            for k in link_ids:\n",
        "                c.addLink(\n",
        "                    k, fromSlot=currentSlotIndex, toSlot=currentSlotIndex+currentNumberSlots)\n",
        "            return Controller.Status.Allocated, c\n",
        "    return Controller.Status.Not_Allocated, c"
      ]
    },
    {
      "cell_type": "code",
      "execution_count": 9,
      "metadata": {
        "id": "mh8-K_w-Dy4H"
      },
      "outputs": [],
      "source": [
        "def agent_algorithm(src: int, dst: int, b: BitRate, c: Connection, n: Network, path, action):\n",
        "    band = getBand(action[0])\n",
        "    c.bandSelected = band\n",
        "    numberOfSlots = b.getNumberofSlots(0)\n",
        "    actionSpace = len(path[src][dst])\n",
        "    link_ids = path[src][dst][0]\n",
        "    general_link = []\n",
        "    for _ in range(n.getLink(0).getSlots(band)):\n",
        "        general_link.append(False)\n",
        "    for link in link_ids:\n",
        "        link = n.getLink(link.id)\n",
        "        link.bandSelected = band\n",
        "        for slot in range(link.getSlots()):\n",
        "            general_link[slot] = general_link[slot] or link.getSlot(slot,band)\n",
        "    currentNumberSlots = 0\n",
        "    currentSlotIndex = 0\n",
        "    for j in range(len(general_link)):\n",
        "        if not general_link[j]:\n",
        "            currentNumberSlots += 1\n",
        "        else:\n",
        "            currentNumberSlots = 0\n",
        "            currentSlotIndex = j + 1\n",
        "        if currentNumberSlots == numberOfSlots:\n",
        "            for k in link_ids:\n",
        "                c.addLink(\n",
        "                    k, fromSlot=currentSlotIndex, toSlot=currentSlotIndex+currentNumberSlots)\n",
        "            return Controller.Status.Allocated, c\n",
        "    return Controller.Status.Not_Allocated, c"
      ]
    },
    {
      "cell_type": "code",
      "execution_count": 10,
      "metadata": {
        "colab": {
          "base_uri": "https://localhost:8080/",
          "height": 909
        },
        "id": "vwQC3eVhqvRt",
        "outputId": "cf2d38c0-03cc-4e68-e329-e698cae711e6"
      },
      "outputs": [
        {
          "name": "stderr",
          "output_type": "stream",
          "text": [
            "/usr/local/lib/python3.10/dist-packages/gymnasium/core.py:311: UserWarning: \u001b[33mWARN: env.setRewardFunc to get variables from other wrappers is deprecated and will be removed in v1.0, to get this variable you can do `env.unwrapped.setRewardFunc` for environment variables or `env.get_wrapper_attr('setRewardFunc')` that will search the reminding wrappers.\u001b[0m\n",
            "  logger.warn(\n",
            "/usr/local/lib/python3.10/dist-packages/gymnasium/core.py:311: UserWarning: \u001b[33mWARN: env.setStateFunc to get variables from other wrappers is deprecated and will be removed in v1.0, to get this variable you can do `env.unwrapped.setStateFunc` for environment variables or `env.get_wrapper_attr('setStateFunc')` that will search the reminding wrappers.\u001b[0m\n",
            "  logger.warn(\n",
            "/usr/local/lib/python3.10/dist-packages/gymnasium/core.py:311: UserWarning: \u001b[33mWARN: env.initEnviroment to get variables from other wrappers is deprecated and will be removed in v1.0, to get this variable you can do `env.unwrapped.initEnviroment` for environment variables or `env.get_wrapper_attr('initEnviroment')` that will search the reminding wrappers.\u001b[0m\n",
            "  logger.warn(\n",
            "/usr/local/lib/python3.10/dist-packages/gymnasium/core.py:311: UserWarning: \u001b[33mWARN: env.getSimulator to get variables from other wrappers is deprecated and will be removed in v1.0, to get this variable you can do `env.unwrapped.getSimulator` for environment variables or `env.get_wrapper_attr('getSimulator')` that will search the reminding wrappers.\u001b[0m\n",
            "  logger.warn(\n",
            "/usr/local/lib/python3.10/dist-packages/gymnasium/core.py:311: UserWarning: \u001b[33mWARN: env.start to get variables from other wrappers is deprecated and will be removed in v1.0, to get this variable you can do `env.unwrapped.start` for environment variables or `env.get_wrapper_attr('start')` that will search the reminding wrappers.\u001b[0m\n",
            "  logger.warn(\n"
          ]
        },
        {
          "name": "stdout",
          "output_type": "stream",
          "text": [
            "meta: 0.95\n",
            "objetivo: 0.95 covered: 0.0 epsilon: 0.01\n",
            "meta: 0.2673105078629141\n",
            "objetivo: 0.95 covered: 0.6826894921370859 epsilon: 0.01\n",
            "Nodes: 20\n",
            "Links: 78\n",
            "Goal Connections: 100000\n",
            "Lambda: 1000\n",
            "Mu: 1\n",
            "+----------+----------+----------+----------+----------+----------+----------+\n",
            "| progress |  arrives | blocking |  time(s) |  Wald CI |  A-C. CI |Wilson CI |\n",
            "+----------+----------+----------+----------+----------+----------+----------+\n",
            "|     5.0% |     5000 | 0.322735 |  0:00:05 | 0.013222 | 0.013218 | 0.013218 |\n",
            "+----------+----------+----------+----------+----------+----------+----------+\n",
            "|    10.0% |    10000 | 0.332867 |  0:00:08 | 0.009424 | 0.009423 | 0.009423 |\n",
            "+----------+----------+----------+----------+----------+----------+----------+\n"
          ]
        },
        {
          "ename": "KeyboardInterrupt",
          "evalue": "ignored",
          "output_type": "error",
          "traceback": [
            "\u001b[0;31m---------------------------------------------------------------------------\u001b[0m",
            "\u001b[0;31mKeyboardInterrupt\u001b[0m                         Traceback (most recent call last)",
            "\u001b[0;32m<ipython-input-10-f2cfed2bdcfb>\u001b[0m in \u001b[0;36m<cell line: 28>\u001b[0;34m()\u001b[0m\n\u001b[1;32m     26\u001b[0m \u001b[0menv\u001b[0m\u001b[0;34m.\u001b[0m\u001b[0mgetSimulator\u001b[0m\u001b[0;34m(\u001b[0m\u001b[0;34m)\u001b[0m\u001b[0;34m.\u001b[0m\u001b[0minit\u001b[0m\u001b[0;34m(\u001b[0m\u001b[0;34m)\u001b[0m\u001b[0;34m\u001b[0m\u001b[0;34m\u001b[0m\u001b[0m\n\u001b[1;32m     27\u001b[0m \u001b[0;34m\u001b[0m\u001b[0m\n\u001b[0;32m---> 28\u001b[0;31m \u001b[0menv\u001b[0m\u001b[0;34m.\u001b[0m\u001b[0mstart\u001b[0m\u001b[0;34m(\u001b[0m\u001b[0;34m)\u001b[0m\u001b[0;34m\u001b[0m\u001b[0;34m\u001b[0m\u001b[0m\n\u001b[0m\u001b[1;32m     29\u001b[0m \u001b[0menv\u001b[0m\u001b[0;34m.\u001b[0m\u001b[0mgetSimulator\u001b[0m\u001b[0;34m(\u001b[0m\u001b[0;34m)\u001b[0m\u001b[0;34m.\u001b[0m\u001b[0msetAllocator\u001b[0m\u001b[0;34m(\u001b[0m\u001b[0magent_algorithm\u001b[0m\u001b[0;34m)\u001b[0m\u001b[0;34m\u001b[0m\u001b[0;34m\u001b[0m\u001b[0m\n\u001b[1;32m     30\u001b[0m \u001b[0mpolicy_args\u001b[0m \u001b[0;34m=\u001b[0m \u001b[0mdict\u001b[0m\u001b[0;34m(\u001b[0m\u001b[0mnet_arch\u001b[0m\u001b[0;34m=\u001b[0m\u001b[0;36m5\u001b[0m\u001b[0;34m*\u001b[0m\u001b[0;34m[\u001b[0m\u001b[0;36m128\u001b[0m\u001b[0;34m]\u001b[0m\u001b[0;34m,\u001b[0m \u001b[0mactivation_fn\u001b[0m\u001b[0;34m=\u001b[0m\u001b[0mth\u001b[0m\u001b[0;34m.\u001b[0m\u001b[0mnn\u001b[0m\u001b[0;34m.\u001b[0m\u001b[0mReLU\u001b[0m\u001b[0;34m)\u001b[0m\u001b[0;34m\u001b[0m\u001b[0;34m\u001b[0m\u001b[0m\n",
            "\u001b[0;32m/usr/local/lib/python3.10/dist-packages/dreamongymv2/gym_basic/envs/rl_on_env.py\u001b[0m in \u001b[0;36mstart\u001b[0;34m(self)\u001b[0m\n\u001b[1;32m     21\u001b[0m         \u001b[0;31m#Inicia la simulación hasta el start_training, luego de eso pasa al paso a paso o reset.\u001b[0m\u001b[0;34m\u001b[0m\u001b[0;34m\u001b[0m\u001b[0m\n\u001b[1;32m     22\u001b[0m         \u001b[0;32mif\u001b[0m \u001b[0mself\u001b[0m\u001b[0;34m.\u001b[0m\u001b[0m__simulator\u001b[0m \u001b[0;32mis\u001b[0m \u001b[0;32mnot\u001b[0m \u001b[0;32mNone\u001b[0m\u001b[0;34m:\u001b[0m\u001b[0;34m\u001b[0m\u001b[0;34m\u001b[0m\u001b[0m\n\u001b[0;32m---> 23\u001b[0;31m             \u001b[0mself\u001b[0m\u001b[0;34m.\u001b[0m\u001b[0m__simulator\u001b[0m\u001b[0;34m.\u001b[0m\u001b[0mrun\u001b[0m\u001b[0;34m(\u001b[0m\u001b[0;34m)\u001b[0m\u001b[0;34m\u001b[0m\u001b[0;34m\u001b[0m\u001b[0m\n\u001b[0m\u001b[1;32m     24\u001b[0m             \u001b[0;31m#for i in range(0)\u001b[0m\u001b[0;34m\u001b[0m\u001b[0;34m\u001b[0m\u001b[0m\n\u001b[1;32m     25\u001b[0m     \u001b[0;32mdef\u001b[0m \u001b[0mstep\u001b[0m\u001b[0;34m(\u001b[0m\u001b[0mself\u001b[0m\u001b[0;34m,\u001b[0m \u001b[0maction\u001b[0m\u001b[0;34m)\u001b[0m\u001b[0;34m:\u001b[0m\u001b[0;34m\u001b[0m\u001b[0;34m\u001b[0m\u001b[0m\n",
            "\u001b[0;32m/usr/local/lib/python3.10/dist-packages/dreamongymv2/simNetPy/simulator.py\u001b[0m in \u001b[0;36mrun\u001b[0;34m(self)\u001b[0m\n\u001b[1;32m    273\u001b[0m             \u001b[0;32mwhile\u001b[0m\u001b[0;34m(\u001b[0m\u001b[0mself\u001b[0m\u001b[0;34m.\u001b[0m\u001b[0m__numberOfConnections\u001b[0m \u001b[0;34m<=\u001b[0m \u001b[0;34m(\u001b[0m\u001b[0mi\u001b[0m \u001b[0;34m*\u001b[0m \u001b[0marrivesByCicle\u001b[0m\u001b[0;34m)\u001b[0m\u001b[0;34m)\u001b[0m\u001b[0;34m:\u001b[0m\u001b[0;34m\u001b[0m\u001b[0;34m\u001b[0m\u001b[0m\n\u001b[1;32m    274\u001b[0m                 \u001b[0mself\u001b[0m\u001b[0;34m.\u001b[0m\u001b[0m__currentEvent\u001b[0m \u001b[0;34m=\u001b[0m \u001b[0mself\u001b[0m\u001b[0;34m.\u001b[0m\u001b[0m__events\u001b[0m\u001b[0;34m[\u001b[0m\u001b[0;36m0\u001b[0m\u001b[0;34m]\u001b[0m\u001b[0;34m\u001b[0m\u001b[0;34m\u001b[0m\u001b[0m\n\u001b[0;32m--> 275\u001b[0;31m                 \u001b[0mself\u001b[0m\u001b[0;34m.\u001b[0m\u001b[0meventRoutine\u001b[0m\u001b[0;34m(\u001b[0m\u001b[0;32mNone\u001b[0m\u001b[0;34m)\u001b[0m\u001b[0;34m\u001b[0m\u001b[0;34m\u001b[0m\u001b[0m\n\u001b[0m\u001b[1;32m    276\u001b[0m             \u001b[0mself\u001b[0m\u001b[0;34m.\u001b[0m\u001b[0mprintRow\u001b[0m\u001b[0;34m(\u001b[0m\u001b[0;34m(\u001b[0m\u001b[0;36m100\u001b[0m \u001b[0;34m/\u001b[0m \u001b[0mtimesToShow\u001b[0m\u001b[0;34m)\u001b[0m \u001b[0;34m*\u001b[0m \u001b[0mi\u001b[0m\u001b[0;34m)\u001b[0m\u001b[0;34m\u001b[0m\u001b[0;34m\u001b[0m\u001b[0m\n\u001b[1;32m    277\u001b[0m \u001b[0;34m\u001b[0m\u001b[0m\n",
            "\u001b[0;32m/usr/local/lib/python3.10/dist-packages/dreamongymv2/simNetPy/simulator.py\u001b[0m in \u001b[0;36meventRoutine\u001b[0;34m(self, action)\u001b[0m\n\u001b[1;32m    228\u001b[0m             \u001b[0mself\u001b[0m\u001b[0;34m.\u001b[0m\u001b[0m__bitRate\u001b[0m \u001b[0;34m=\u001b[0m \u001b[0mself\u001b[0m\u001b[0;34m.\u001b[0m\u001b[0m__connectionEvent\u001b[0m\u001b[0;34m.\u001b[0m\u001b[0mbitRate\u001b[0m\u001b[0;34m\u001b[0m\u001b[0;34m\u001b[0m\u001b[0m\n\u001b[1;32m    229\u001b[0m \u001b[0;34m\u001b[0m\u001b[0m\n\u001b[0;32m--> 230\u001b[0;31m             self.__rtnAllocation = self.__controller.assignConnection(\n\u001b[0m\u001b[1;32m    231\u001b[0m                 self.__src, self.__dst, self.__bitRates[self.__bitRate], self.__currentEvent.getIdConnection(), action)\n\u001b[1;32m    232\u001b[0m             \u001b[0;32mif\u001b[0m \u001b[0;34m(\u001b[0m\u001b[0mself\u001b[0m\u001b[0;34m.\u001b[0m\u001b[0m__rtnAllocation\u001b[0m\u001b[0;34m.\u001b[0m\u001b[0mname\u001b[0m \u001b[0;34m==\u001b[0m \u001b[0mController\u001b[0m\u001b[0;34m.\u001b[0m\u001b[0mStatus\u001b[0m\u001b[0;34m.\u001b[0m\u001b[0mAllocated\u001b[0m\u001b[0;34m.\u001b[0m\u001b[0mname\u001b[0m\u001b[0;34m)\u001b[0m\u001b[0;34m:\u001b[0m\u001b[0;34m\u001b[0m\u001b[0;34m\u001b[0m\u001b[0m\n",
            "\u001b[0;32m/usr/local/lib/python3.10/dist-packages/dreamongymv2/simNetPy/controller.py\u001b[0m in \u001b[0;36massignConnection\u001b[0;34m(self, src, dst, bitRate, idConnection, action)\u001b[0m\n\u001b[1;32m     40\u001b[0m         \u001b[0;31m# Problema inicial, faltaban dos argumentos network y path, la solucion torpe es agregarlos pero no usarlos\u001b[0m\u001b[0;34m\u001b[0m\u001b[0;34m\u001b[0m\u001b[0m\n\u001b[1;32m     41\u001b[0m         \u001b[0;31m# actualización estas variables deben entrar\u001b[0m\u001b[0;34m\u001b[0m\u001b[0;34m\u001b[0m\u001b[0m\n\u001b[0;32m---> 42\u001b[0;31m         rtnAllocation, con = self.__allocator(\n\u001b[0m\u001b[1;32m     43\u001b[0m             src, dst, bitRate, con, self.__network, path=self.__path, action=action)\n\u001b[1;32m     44\u001b[0m         \u001b[0;32mif\u001b[0m \u001b[0;34m(\u001b[0m\u001b[0mrtnAllocation\u001b[0m\u001b[0;34m.\u001b[0m\u001b[0mname\u001b[0m \u001b[0;34m==\u001b[0m \u001b[0mController\u001b[0m\u001b[0;34m.\u001b[0m\u001b[0mStatus\u001b[0m\u001b[0;34m.\u001b[0m\u001b[0mAllocated\u001b[0m\u001b[0;34m.\u001b[0m\u001b[0mname\u001b[0m\u001b[0;34m)\u001b[0m\u001b[0;34m:\u001b[0m\u001b[0;34m\u001b[0m\u001b[0;34m\u001b[0m\u001b[0m\n",
            "\u001b[0;32m<ipython-input-8-b9de5d3eec80>\u001b[0m in \u001b[0;36mfirst_fit_algorithm\u001b[0;34m(src, dst, b, c, n, path, action)\u001b[0m\n\u001b[1;32m     11\u001b[0m         \u001b[0mlink\u001b[0m\u001b[0;34m.\u001b[0m\u001b[0mbandSelected\u001b[0m \u001b[0;34m=\u001b[0m \u001b[0mc\u001b[0m\u001b[0;34m.\u001b[0m\u001b[0mbandSelected\u001b[0m\u001b[0;34m\u001b[0m\u001b[0;34m\u001b[0m\u001b[0m\n\u001b[1;32m     12\u001b[0m         \u001b[0;32mfor\u001b[0m \u001b[0mslot\u001b[0m \u001b[0;32min\u001b[0m \u001b[0mrange\u001b[0m\u001b[0;34m(\u001b[0m\u001b[0mlink\u001b[0m\u001b[0;34m.\u001b[0m\u001b[0mgetSlots\u001b[0m\u001b[0;34m(\u001b[0m\u001b[0mc\u001b[0m\u001b[0;34m.\u001b[0m\u001b[0mbandSelected\u001b[0m\u001b[0;34m)\u001b[0m\u001b[0;34m)\u001b[0m\u001b[0;34m:\u001b[0m\u001b[0;34m\u001b[0m\u001b[0;34m\u001b[0m\u001b[0m\n\u001b[0;32m---> 13\u001b[0;31m             \u001b[0mgeneral_link\u001b[0m\u001b[0;34m[\u001b[0m\u001b[0mslot\u001b[0m\u001b[0;34m]\u001b[0m \u001b[0;34m=\u001b[0m \u001b[0mgeneral_link\u001b[0m\u001b[0;34m[\u001b[0m\u001b[0mslot\u001b[0m\u001b[0;34m]\u001b[0m \u001b[0;32mor\u001b[0m \u001b[0mlink\u001b[0m\u001b[0;34m.\u001b[0m\u001b[0mgetSlot\u001b[0m\u001b[0;34m(\u001b[0m\u001b[0mslot\u001b[0m\u001b[0;34m,\u001b[0m\u001b[0mc\u001b[0m\u001b[0;34m.\u001b[0m\u001b[0mbandSelected\u001b[0m\u001b[0;34m)\u001b[0m\u001b[0;34m\u001b[0m\u001b[0;34m\u001b[0m\u001b[0m\n\u001b[0m\u001b[1;32m     14\u001b[0m     \u001b[0mcurrentNumberSlots\u001b[0m \u001b[0;34m=\u001b[0m \u001b[0;36m0\u001b[0m\u001b[0;34m\u001b[0m\u001b[0;34m\u001b[0m\u001b[0m\n\u001b[1;32m     15\u001b[0m     \u001b[0mcurrentSlotIndex\u001b[0m \u001b[0;34m=\u001b[0m \u001b[0;36m0\u001b[0m\u001b[0;34m\u001b[0m\u001b[0;34m\u001b[0m\u001b[0m\n",
            "\u001b[0;31mKeyboardInterrupt\u001b[0m: "
          ]
        }
      ],
      "source": [
        "fileDirectory = '/content/drive/MyDrive/DREAMONGYM'\n",
        "\n",
        "env = gymnasium.make(\"rlonenv-v0\")\n",
        "\n",
        "obs, info = env.reset()\n",
        "\n",
        "#definir espacio (opciones del 0-3, 4 en total )\n",
        "env.action_space = gymnasium.spaces.MultiDiscrete(np.array([4]))\n",
        "\n",
        "\n",
        "#tamaño de los slots de las bandas\n",
        "env.observation_space = gymnasium.spaces.MultiDiscrete([100] * 2720)\n",
        "\n",
        "#Set funcion recompensa\n",
        "env.setRewardFunc(reward)\n",
        "#Set estados\n",
        "env.setStateFunc(state)\n",
        "#env.setStateFunc(stateAllNetwork)\n",
        "#Definir topologia y rutas\n",
        "env.initEnviroment(fileDirectory + \"/Topologias-rutas/BDM_ARPANet_4_bands.json\", fileDirectory + \"/Topologias-rutas/ARPANet_routes.json\")\n",
        "#Cantidad de conexiones para tener el simulador corriendo\n",
        "env.getSimulator().goalConnections = 100000\n",
        "env.getSimulator().setMu(1)\n",
        "env.getSimulator().setLambda(1000)\n",
        "env.getSimulator().setAllocator(first_fit_algorithm)\n",
        "env.getSimulator().init()\n",
        "\n",
        "env.start()\n",
        "env.getSimulator().setAllocator(agent_algorithm)\n",
        "policy_args = dict(net_arch=5*[128], activation_fn=th.nn.ReLU)"
      ]
    },
    {
      "cell_type": "markdown",
      "metadata": {
        "id": "-M_MPLuFVZyY"
      },
      "source": [
        "# Instalcion de Optuna y Optuna-Dashboard"
      ]
    },
    {
      "cell_type": "code",
      "execution_count": null,
      "metadata": {
        "colab": {
          "base_uri": "https://localhost:8080/"
        },
        "id": "bjjtxINQUZzT",
        "outputId": "8d2c1551-c465-4e42-e402-99e672241f20"
      },
      "outputs": [
        {
          "name": "stdout",
          "output_type": "stream",
          "text": [
            "Collecting optuna\n",
            "  Downloading optuna-3.4.0-py3-none-any.whl (409 kB)\n",
            "\u001b[2K     \u001b[90m━━━━━━━━━━━━━━━━━━━━━━━━━━━━━━━━━━━━━━━━\u001b[0m \u001b[32m409.6/409.6 kB\u001b[0m \u001b[31m7.6 MB/s\u001b[0m eta \u001b[36m0:00:00\u001b[0m\n",
            "\u001b[?25hCollecting alembic>=1.5.0 (from optuna)\n",
            "  Downloading alembic-1.12.1-py3-none-any.whl (226 kB)\n",
            "\u001b[2K     \u001b[90m━━━━━━━━━━━━━━━━━━━━━━━━━━━━━━━━━━━━━━━━\u001b[0m \u001b[32m226.8/226.8 kB\u001b[0m \u001b[31m33.0 MB/s\u001b[0m eta \u001b[36m0:00:00\u001b[0m\n",
            "\u001b[?25hCollecting colorlog (from optuna)\n",
            "  Downloading colorlog-6.7.0-py2.py3-none-any.whl (11 kB)\n",
            "Requirement already satisfied: numpy in /usr/local/lib/python3.10/dist-packages (from optuna) (1.23.5)\n",
            "Requirement already satisfied: packaging>=20.0 in /usr/local/lib/python3.10/dist-packages (from optuna) (23.2)\n",
            "Requirement already satisfied: sqlalchemy>=1.3.0 in /usr/local/lib/python3.10/dist-packages (from optuna) (2.0.23)\n",
            "Requirement already satisfied: tqdm in /usr/local/lib/python3.10/dist-packages (from optuna) (4.66.1)\n",
            "Requirement already satisfied: PyYAML in /usr/local/lib/python3.10/dist-packages (from optuna) (6.0.1)\n",
            "Collecting Mako (from alembic>=1.5.0->optuna)\n",
            "  Downloading Mako-1.3.0-py3-none-any.whl (78 kB)\n",
            "\u001b[2K     \u001b[90m━━━━━━━━━━━━━━━━━━━━━━━━━━━━━━━━━━━━━━━━\u001b[0m \u001b[32m78.6/78.6 kB\u001b[0m \u001b[31m12.2 MB/s\u001b[0m eta \u001b[36m0:00:00\u001b[0m\n",
            "\u001b[?25hRequirement already satisfied: typing-extensions>=4 in /usr/local/lib/python3.10/dist-packages (from alembic>=1.5.0->optuna) (4.5.0)\n",
            "Requirement already satisfied: greenlet!=0.4.17 in /usr/local/lib/python3.10/dist-packages (from sqlalchemy>=1.3.0->optuna) (3.0.1)\n",
            "Requirement already satisfied: MarkupSafe>=0.9.2 in /usr/local/lib/python3.10/dist-packages (from Mako->alembic>=1.5.0->optuna) (2.1.3)\n",
            "Installing collected packages: Mako, colorlog, alembic, optuna\n",
            "Successfully installed Mako-1.3.0 alembic-1.12.1 colorlog-6.7.0 optuna-3.4.0\n"
          ]
        }
      ],
      "source": [
        "!pip install optuna"
      ]
    },
    {
      "cell_type": "code",
      "execution_count": null,
      "metadata": {
        "colab": {
          "base_uri": "https://localhost:8080/"
        },
        "id": "0dXGNHO0VeKC",
        "outputId": "c28b58cf-956d-48af-f998-dc5cd3c5d980"
      },
      "outputs": [
        {
          "name": "stdout",
          "output_type": "stream",
          "text": [
            "Collecting optuna-dashboard\n",
            "  Downloading optuna_dashboard-0.13.0-py3-none-any.whl (5.8 MB)\n",
            "\u001b[2K     \u001b[90m━━━━━━━━━━━━━━━━━━━━━━━━━━━━━━━━━━━━━━━━\u001b[0m \u001b[32m5.8/5.8 MB\u001b[0m \u001b[31m16.0 MB/s\u001b[0m eta \u001b[36m0:00:00\u001b[0m\n",
            "\u001b[?25hCollecting bottle (from optuna-dashboard)\n",
            "  Downloading bottle-0.12.25-py3-none-any.whl (90 kB)\n",
            "\u001b[2K     \u001b[90m━━━━━━━━━━━━━━━━━━━━━━━━━━━━━━━━━━━━━━━━\u001b[0m \u001b[32m90.2/90.2 kB\u001b[0m \u001b[31m9.2 MB/s\u001b[0m eta \u001b[36m0:00:00\u001b[0m\n",
            "\u001b[?25hRequirement already satisfied: optuna>=2.4.0 in /usr/local/lib/python3.10/dist-packages (from optuna-dashboard) (3.4.0)\n",
            "Requirement already satisfied: packaging in /usr/local/lib/python3.10/dist-packages (from optuna-dashboard) (23.2)\n",
            "Requirement already satisfied: scikit-learn in /usr/local/lib/python3.10/dist-packages (from optuna-dashboard) (1.2.2)\n",
            "Requirement already satisfied: alembic>=1.5.0 in /usr/local/lib/python3.10/dist-packages (from optuna>=2.4.0->optuna-dashboard) (1.12.1)\n",
            "Requirement already satisfied: colorlog in /usr/local/lib/python3.10/dist-packages (from optuna>=2.4.0->optuna-dashboard) (6.7.0)\n",
            "Requirement already satisfied: numpy in /usr/local/lib/python3.10/dist-packages (from optuna>=2.4.0->optuna-dashboard) (1.23.5)\n",
            "Requirement already satisfied: sqlalchemy>=1.3.0 in /usr/local/lib/python3.10/dist-packages (from optuna>=2.4.0->optuna-dashboard) (2.0.23)\n",
            "Requirement already satisfied: tqdm in /usr/local/lib/python3.10/dist-packages (from optuna>=2.4.0->optuna-dashboard) (4.66.1)\n",
            "Requirement already satisfied: PyYAML in /usr/local/lib/python3.10/dist-packages (from optuna>=2.4.0->optuna-dashboard) (6.0.1)\n",
            "Requirement already satisfied: scipy>=1.3.2 in /usr/local/lib/python3.10/dist-packages (from scikit-learn->optuna-dashboard) (1.11.3)\n",
            "Requirement already satisfied: joblib>=1.1.1 in /usr/local/lib/python3.10/dist-packages (from scikit-learn->optuna-dashboard) (1.3.2)\n",
            "Requirement already satisfied: threadpoolctl>=2.0.0 in /usr/local/lib/python3.10/dist-packages (from scikit-learn->optuna-dashboard) (3.2.0)\n",
            "Requirement already satisfied: Mako in /usr/local/lib/python3.10/dist-packages (from alembic>=1.5.0->optuna>=2.4.0->optuna-dashboard) (1.3.0)\n",
            "Requirement already satisfied: typing-extensions>=4 in /usr/local/lib/python3.10/dist-packages (from alembic>=1.5.0->optuna>=2.4.0->optuna-dashboard) (4.5.0)\n",
            "Requirement already satisfied: greenlet!=0.4.17 in /usr/local/lib/python3.10/dist-packages (from sqlalchemy>=1.3.0->optuna>=2.4.0->optuna-dashboard) (3.0.1)\n",
            "Requirement already satisfied: MarkupSafe>=0.9.2 in /usr/local/lib/python3.10/dist-packages (from Mako->alembic>=1.5.0->optuna>=2.4.0->optuna-dashboard) (2.1.3)\n",
            "Installing collected packages: bottle, optuna-dashboard\n",
            "Successfully installed bottle-0.12.25 optuna-dashboard-0.13.0\n"
          ]
        }
      ],
      "source": [
        "!pip install optuna-dashboard"
      ]
    },
    {
      "cell_type": "markdown",
      "metadata": {
        "id": "Ryck42OIP6kP"
      },
      "source": [
        "## Optimizacion con Optuna"
      ]
    },
    {
      "cell_type": "code",
      "execution_count": null,
      "metadata": {
        "id": "oMN58B5dW7Cj"
      },
      "outputs": [],
      "source": [
        "import optuna\n",
        "import shutil\n",
        "\n",
        "def objective(trial):\n",
        "    global episodeRewardAccum\n",
        "    global episodeIteration\n",
        "    global episodeRewardsArray\n",
        "    global iteration\n",
        "    global env\n",
        "\n",
        "    bands = ['L','C','S','E']\n",
        "\n",
        "    episodeRewardAccum = 0\n",
        "    iteration = 0\n",
        "    episodeIteration = 100\n",
        "    episodeRewardsArray = []\n",
        "\n",
        "    fileDirectory = '/content/drive/MyDrive/DREAMONGYM'\n",
        "\n",
        "    env = gymnasium.make(\"rlonenv-v0\")\n",
        "\n",
        "    obs, info = env.reset()\n",
        "\n",
        "    #definir espacio (opciones del 0-3, 4 en total )\n",
        "    env.action_space = gymnasium.spaces.MultiDiscrete(np.array([4]))\n",
        "\n",
        "\n",
        "    #tamaño de los slots de las bandas\n",
        "    env.observation_space = gymnasium.spaces.MultiDiscrete([100] * 2720)\n",
        "\n",
        "    #Set funcion recompensa\n",
        "    env.setRewardFunc(reward)\n",
        "    #Set estados\n",
        "    env.setStateFunc(state)\n",
        "    #env.setStateFunc(stateAllNetwork)\n",
        "    #Definir topologia y rutas\n",
        "    env.initEnviroment(fileDirectory + \"/Topologias-rutas/BDM_ARPANet_4_bands.json\", fileDirectory + \"/Topologias-rutas/ARPANet_routes.json\")\n",
        "    #Cantidad de conexiones para tener el simulador corriendo\n",
        "    env.getSimulator().goalConnections = 100000\n",
        "    env.getSimulator().setMu(1)\n",
        "    env.getSimulator().setLambda(1000)\n",
        "    env.getSimulator().setAllocator(first_fit_algorithm)\n",
        "    env.getSimulator().init()\n",
        "\n",
        "    env.start()\n",
        "    env.getSimulator().setAllocator(agent_algorithm)\n",
        "\n",
        "\n",
        "    print(\"Se reseteo!!!!!!!!\", len(episodeRewardsArray))\n",
        "\n",
        "\n",
        "    # Define hiperparámetros a optimizar\n",
        "    net_arch = [trial.suggest_int('net_arch_' + str(i), 32, 256) for i in range(5)]  ### REVISAR SI SON 5 CAPAS XD\n",
        "    gamma = trial.suggest_float('gamma', 0.9, 0.99)\n",
        "    learning_rate = trial.suggest_float('learning_rate', 1e-5, 1e-1, log=True)\n",
        "    batch_size = trial.suggest_int('batch_size', 32, 512)\n",
        "\n",
        "    #model = TRPO(MLP_TRPO, env, verbose=0, tensorboard_log=\"./tb/TRPO-DeepRBMLSA-v0/\", policy_kwargs=policy_args, gamma=.95)\n",
        "\n",
        "    # Crea el modelo con los hiperparámetros\n",
        "    model = TRPO(MLP_TRPO, env, verbose=0, tensorboard_log=\"./tb/TRPO-DeepRBMLSA-v0/\",\n",
        "                 policy_kwargs=dict(net_arch=net_arch, activation_fn=th.nn.ReLU), gamma=gamma, learning_rate=learning_rate, batch_size=batch_size)\n",
        "\n",
        "    # Entrenar el modelo\n",
        "    model.learn(total_timesteps=1000, log_interval=4)\n",
        "\n",
        "    print(\"Post train\", len(episodeRewardsArray), episodeRewardsArray)\n",
        "\n",
        "    trial.set_user_attr('episode_rewards', len(episodeRewardsArray))\n",
        "    # trial.set_user_attr('rewards', np.mean(rewardsArray))\n",
        "\n",
        "    return np.mean(episodeRewardsArray)\n",
        "\n",
        "# Crea un estudio Optuna\n",
        "study = optuna.create_study(direction='maximize', storage='sqlite:///example.db')\n",
        "\n",
        "# Realiza la optimización de hiperparámetros\n",
        "study.optimize(objective, n_trials=30)\n",
        "\n",
        "print('Best trial:')\n",
        "best_trial = study.best_trial\n",
        "\n",
        "print('Value: ', best_trial.value)\n",
        "print('Params: ')\n",
        "for key, value in best_trial.params.items():\n",
        "    print(f'    {key}: {value}')"
      ]
    },
    {
      "cell_type": "markdown",
      "metadata": {
        "id": "Ax9XanUbh8a4"
      },
      "source": [
        "## GUARDAR BASE DE DATOS"
      ]
    },
    {
      "cell_type": "code",
      "execution_count": null,
      "metadata": {
        "colab": {
          "base_uri": "https://localhost:8080/",
          "height": 36
        },
        "id": "nTiiLU0Rh-j0",
        "outputId": "1b2de908-9141-4f94-cc3f-da953b00ff3a"
      },
      "outputs": [
        {
          "data": {
            "application/vnd.google.colaboratory.intrinsic+json": {
              "type": "string"
            },
            "text/plain": [
              "'/content/drive/MyDrive/outputs/example.db'"
            ]
          },
          "execution_count": 17,
          "metadata": {},
          "output_type": "execute_result"
        }
      ],
      "source": [
        "import shutil\n",
        "\n",
        "# Ruta del archivo de base de datos SQLite en Colab\n",
        "source_path = 'example.db'  # Reemplaza con la ruta correcta\n",
        "\n",
        "# Ruta en Google Drive\n",
        "drive_path = '/content/drive/MyDrive/outputs/'\n",
        "\n",
        "# Copiar la base de datos a Google Drive\n",
        "shutil.copy(source_path, drive_path)"
      ]
    },
    {
      "cell_type": "markdown",
      "metadata": {
        "id": "xq5c8HED0RI5"
      },
      "source": [
        "## GUARDAR MODELO"
      ]
    },
    {
      "cell_type": "code",
      "execution_count": null,
      "metadata": {
        "id": "X1wVqT7JqnsX"
      },
      "outputs": [],
      "source": [
        "best_trial = study.best_trial\n",
        "\n",
        "parametros_optimizados = best_trial.params.items()\n",
        "parametros_optimizados = dict(parametros_optimizados)\n",
        "# Extraer los parámetros específicos\n",
        "net_arch = [parametros_optimizados[f'net_arch_{i}'] for i in range(5)]\n",
        "gamma = parametros_optimizados['gamma']\n",
        "learning_rate = parametros_optimizados['learning_rate']\n",
        "batch_size = parametros_optimizados['batch_size']\n",
        "model = TRPO(MLP_TRPO, env, verbose=0, tensorboard_log=\"./tb/TRPO-DeepRBMLSA-v0/\",\n",
        "                policy_kwargs=dict(net_arch=net_arch, activation_fn=th.nn.ReLU), gamma=gamma, learning_rate=learning_rate, batch_size=batch_size)\n",
        "\n",
        "model.learn(total_timesteps=1000, log_interval=4)\n",
        "modelDirectory = fileDirectory + \"/models/\"\n",
        "model.save(modelDirectory+ \"TRPO\")"
      ]
    },
    {
      "cell_type": "markdown",
      "metadata": {
        "id": "19_YnsQDQYKL"
      },
      "source": [
        "## CONEXION CON OPTUNA DASHBOARD"
      ]
    },
    {
      "cell_type": "code",
      "execution_count": 11,
      "metadata": {
        "id": "FBhmDz6K5-3d"
      },
      "outputs": [],
      "source": [
        "#Se carga el study desde la bd\n",
        "import time\n",
        "import threading\n",
        "from optuna_dashboard import wsgi\n",
        "import optuna\n",
        "from wsgiref.simple_server import make_server\n",
        "\n",
        "port = 4439\n",
        "\n",
        "# Especifica la ruta completa a la base de datos SQLite\n",
        "database_path = \"/content/drive/MyDrive/outputs/example.db\"\n",
        "\n",
        "# Configura la conexión a la base de datos SQLite\n",
        "storage = optuna.storages.RDBStorage(\n",
        "    url=f\"sqlite:///{database_path}\",\n",
        "    engine_kwargs={\"connect_args\": {\"check_same_thread\": False}},\n",
        ")\n",
        "\n",
        "# Ahora puedes utilizar 'storage' en Optuna\n",
        "\n",
        "s_name = \"no-name-4bb6b584-bff7-4818-9bf0-2aef5152f472\"\n",
        "\n",
        "study = optuna.load_study(study_name=s_name, storage=storage)\n",
        "#study = optuna.create_study(storage=storage)"
      ]
    },
    {
      "cell_type": "code",
      "execution_count": null,
      "metadata": {
        "id": "VNIfgTGSvBby"
      },
      "outputs": [],
      "source": [
        "#optuna dashboard al localhost\n",
        "app = wsgi(storage)\n",
        "httpd = make_server(\"localhost\", port, app)\n",
        "thread = threading.Thread(target=httpd.serve_forever)\n",
        "thread.start()\n",
        "time.sleep(3) # Wait until the server startup\n",
        "\n",
        "from google.colab import output\n",
        "output.serve_kernel_port_as_window(port, path='/dashboard/')"
      ]
    },
    {
      "cell_type": "markdown",
      "metadata": {
        "id": "V5QTj6pdPgMg"
      },
      "source": [
        "# CARGA Y TEST MODELO"
      ]
    },
    {
      "cell_type": "code",
      "execution_count": 12,
      "metadata": {
        "colab": {
          "base_uri": "https://localhost:8080/"
        },
        "id": "txAT65Q4vsQo",
        "outputId": "c14bcfd7-7664-4544-8bc4-afb3a3507a81"
      },
      "outputs": [
        {
          "name": "stderr",
          "output_type": "stream",
          "text": [
            "/usr/local/lib/python3.10/dist-packages/gymnasium/core.py:311: UserWarning: \u001b[33mWARN: env.setRewardFunc to get variables from other wrappers is deprecated and will be removed in v1.0, to get this variable you can do `env.unwrapped.setRewardFunc` for environment variables or `env.get_wrapper_attr('setRewardFunc')` that will search the reminding wrappers.\u001b[0m\n",
            "  logger.warn(\n",
            "/usr/local/lib/python3.10/dist-packages/gymnasium/core.py:311: UserWarning: \u001b[33mWARN: env.setStateFunc to get variables from other wrappers is deprecated and will be removed in v1.0, to get this variable you can do `env.unwrapped.setStateFunc` for environment variables or `env.get_wrapper_attr('setStateFunc')` that will search the reminding wrappers.\u001b[0m\n",
            "  logger.warn(\n",
            "/usr/local/lib/python3.10/dist-packages/gymnasium/core.py:311: UserWarning: \u001b[33mWARN: env.initEnviroment to get variables from other wrappers is deprecated and will be removed in v1.0, to get this variable you can do `env.unwrapped.initEnviroment` for environment variables or `env.get_wrapper_attr('initEnviroment')` that will search the reminding wrappers.\u001b[0m\n",
            "  logger.warn(\n",
            "/usr/local/lib/python3.10/dist-packages/gymnasium/core.py:311: UserWarning: \u001b[33mWARN: env.getSimulator to get variables from other wrappers is deprecated and will be removed in v1.0, to get this variable you can do `env.unwrapped.getSimulator` for environment variables or `env.get_wrapper_attr('getSimulator')` that will search the reminding wrappers.\u001b[0m\n",
            "  logger.warn(\n",
            "/usr/local/lib/python3.10/dist-packages/gymnasium/core.py:311: UserWarning: \u001b[33mWARN: env.start to get variables from other wrappers is deprecated and will be removed in v1.0, to get this variable you can do `env.unwrapped.start` for environment variables or `env.get_wrapper_attr('start')` that will search the reminding wrappers.\u001b[0m\n",
            "  logger.warn(\n"
          ]
        },
        {
          "name": "stdout",
          "output_type": "stream",
          "text": [
            "meta: 0.95\n",
            "objetivo: 0.95 covered: 0.0 epsilon: 0.01\n",
            "meta: 0.2673105078629141\n",
            "objetivo: 0.95 covered: 0.6826894921370859 epsilon: 0.01\n",
            "Nodes: 14\n",
            "Links: 44\n",
            "Goal Connections: 100000\n",
            "Lambda: 1000\n",
            "Mu: 1\n",
            "+----------+----------+----------+----------+----------+----------+----------+\n",
            "| progress |  arrives | blocking |  time(s) |  Wald CI |  A-C. CI |Wilson CI |\n",
            "+----------+----------+----------+----------+----------+----------+----------+\n",
            "|     5.0% |     5000 | 0.418316 |  0:00:02 | 0.013951 | 0.013945 | 0.013945 |\n",
            "+----------+----------+----------+----------+----------+----------+----------+\n",
            "|    10.0% |    10000 | 0.425957 |  0:00:05 | 0.009889 | 0.009887 | 0.009887 |\n",
            "+----------+----------+----------+----------+----------+----------+----------+\n",
            "|    15.0% |    15000 | 0.426772 |  0:00:07 | 0.008077 | 0.008076 | 0.008076 |\n",
            "+----------+----------+----------+----------+----------+----------+----------+\n",
            "|    20.0% |    20000 | 0.424179 |  0:00:11 | 0.006989 | 0.006988 | 0.006988 |\n",
            "+----------+----------+----------+----------+----------+----------+----------+\n",
            "|    25.0% |    25000 | 0.422743 |  0:00:16 | 0.006248 | 0.006248 | 0.006248 |\n",
            "+----------+----------+----------+----------+----------+----------+----------+\n",
            "|    30.0% |    30000 | 0.422253 |  0:00:20 | 0.005703 | 0.005703 | 0.005703 |\n",
            "+----------+----------+----------+----------+----------+----------+----------+\n",
            "|    35.0% |    35000 | 0.424874 |  0:00:22 | 0.005284 | 0.005284 | 0.005284 |\n",
            "+----------+----------+----------+----------+----------+----------+----------+\n",
            "|    40.0% |    40000 | 0.423389 |  0:00:24 | 0.004941 | 0.004941 | 0.004941 |\n",
            "+----------+----------+----------+----------+----------+----------+----------+\n",
            "|    45.0% |    45000 | 0.424013 |  0:00:27 | 0.004659 | 0.004659 | 0.004659 |\n",
            "+----------+----------+----------+----------+----------+----------+----------+\n",
            "|    50.0% |    50000 | 0.425231 |  0:00:30 | 0.004422 | 0.004422 | 0.004422 |\n",
            "+----------+----------+----------+----------+----------+----------+----------+\n",
            "|    55.0% |    55000 | 0.424865 |  0:00:35 | 0.004216 | 0.004215 | 0.004215 |\n",
            "+----------+----------+----------+----------+----------+----------+----------+\n",
            "|    60.0% |    60000 | 0.425310 |  0:00:39 | 0.004037 | 0.004037 | 0.004037 |\n",
            "+----------+----------+----------+----------+----------+----------+----------+\n",
            "|    65.0% |    65000 | 0.424624 |  0:00:42 | 0.003877 | 0.003877 | 0.003877 |\n",
            "+----------+----------+----------+----------+----------+----------+----------+\n",
            "|    70.0% |    70000 | 0.423580 |  0:00:44 | 0.003735 | 0.003735 | 0.003735 |\n",
            "+----------+----------+----------+----------+----------+----------+----------+\n",
            "|    75.0% |    75000 | 0.423648 |  0:00:47 | 0.003609 | 0.003609 | 0.003609 |\n",
            "+----------+----------+----------+----------+----------+----------+----------+\n",
            "|    80.0% |    80000 | 0.424307 |  0:00:50 | 0.003495 | 0.003495 | 0.003495 |\n",
            "+----------+----------+----------+----------+----------+----------+----------+\n",
            "|    85.0% |    85000 | 0.424571 |  0:00:56 | 0.003391 | 0.003391 | 0.003391 |\n",
            "+----------+----------+----------+----------+----------+----------+----------+\n",
            "|    90.0% |    90000 | 0.424806 |  0:01:00 | 0.003295 | 0.003295 | 0.003295 |\n",
            "+----------+----------+----------+----------+----------+----------+----------+\n",
            "|    95.0% |    95000 | 0.424932 |  0:01:02 | 0.003208 | 0.003208 | 0.003208 |\n",
            "+----------+----------+----------+----------+----------+----------+----------+\n"
          ]
        }
      ],
      "source": [
        "fileDirectory = '/content/drive/MyDrive/DREAMONGYM'\n",
        "\n",
        "env = gymnasium.make(\"rlonenv-v0\")\n",
        "\n",
        "obs, info = env.reset()\n",
        "\n",
        "#definir espacio (opciones del 0-3, 4 en total )\n",
        "env.action_space = gymnasium.spaces.MultiDiscrete(np.array([4]))\n",
        "\n",
        "\n",
        "#tamaño de los slots de las bandas\n",
        "env.observation_space = gymnasium.spaces.MultiDiscrete([100] * 2720)\n",
        "\n",
        "#Set funcion recompensa\n",
        "env.setRewardFunc(reward)\n",
        "#Set estados\n",
        "env.setStateFunc(state)\n",
        "#env.setStateFunc(stateAllNetwork)\n",
        "#Definir topologia y rutas\n",
        "env.initEnviroment(fileDirectory + \"/Topologias-rutas/NSFNet_4_bands.json\", fileDirectory + \"/Topologias-rutas/NSFNet_routes.json\")\n",
        "#Cantidad de conexiones para tener el simulador corriendo\n",
        "env.getSimulator().goalConnections = 100000\n",
        "env.getSimulator().setMu(1)\n",
        "env.getSimulator().setLambda(1000)\n",
        "env.getSimulator().setAllocator(first_fit_algorithm)\n",
        "env.getSimulator().init()\n",
        "\n",
        "env.start()\n",
        "env.getSimulator().setAllocator(agent_algorithm)\n",
        "policy_args = dict(net_arch=5*[128], activation_fn=th.nn.ReLU)"
      ]
    },
    {
      "cell_type": "code",
      "execution_count": 13,
      "metadata": {
        "colab": {
          "base_uri": "https://localhost:8080/"
        },
        "id": "vtjjajbrQcsF",
        "outputId": "8e733c60-3e47-4f78-f408-6f9f3bf6f226"
      },
      "outputs": [
        {
          "name": "stderr",
          "output_type": "stream",
          "text": [
            "/usr/local/lib/python3.10/dist-packages/sb3_contrib/trpo/trpo.py:154: UserWarning: You have specified a mini-batch size of 423, but because the `RolloutBuffer` is of size `n_steps * n_envs = 2048`, after every 4 untruncated mini-batches, there will be a truncated mini-batch of size 356\n",
            "We recommend using a `batch_size` that is a factor of `n_steps * n_envs`.\n",
            "Info: (n_steps=2048 and n_envs=1)\n",
            "  warnings.warn(\n"
          ]
        },
        {
          "data": {
            "text/plain": [
              "<sb3_contrib.trpo.trpo.TRPO at 0x785ce0395de0>"
            ]
          },
          "execution_count": 13,
          "metadata": {},
          "output_type": "execute_result"
        }
      ],
      "source": [
        "import torch\n",
        "from sb3_contrib import TRPO\n",
        "from sb3_contrib.trpo import MlpPolicy as MLP_TRPO\n",
        "\n",
        "best_trial = study.best_trial\n",
        "\n",
        "parametros_optimizados = best_trial.params.items()\n",
        "parametros_optimizados = dict(parametros_optimizados)\n",
        "# Extraer los parámetros específicos\n",
        "net_arch = [parametros_optimizados[f'net_arch_{i}'] for i in range(5)]\n",
        "gamma = parametros_optimizados['gamma']\n",
        "learning_rate = parametros_optimizados['learning_rate']\n",
        "batch_size = parametros_optimizados['batch_size']\n",
        "model = TRPO(MLP_TRPO, env, verbose=0, tensorboard_log=\"./tb/TRPO-DeepRBMLSA-v0/\",\n",
        "                policy_kwargs=dict(net_arch=net_arch, activation_fn=th.nn.ReLU), gamma=gamma, learning_rate=learning_rate, batch_size=batch_size)\n",
        "\n",
        "model.load(\"/content/drive/MyDrive/DREAMONGYM/models/TRPO.zip\")"
      ]
    },
    {
      "cell_type": "code",
      "execution_count": null,
      "metadata": {
        "colab": {
          "base_uri": "https://localhost:8080/"
        },
        "id": "dCAU0Pr7Phqk",
        "outputId": "9c5faba5-4e95-45de-d822-4e548671890c"
      },
      "outputs": [
        {
          "name": "stderr",
          "output_type": "stream",
          "text": [
            "/usr/local/lib/python3.10/dist-packages/gymnasium/core.py:311: UserWarning: \u001b[33mWARN: env.getSimulator to get variables from other wrappers is deprecated and will be removed in v1.0, to get this variable you can do `env.unwrapped.getSimulator` for environment variables or `env.get_wrapper_attr('getSimulator')` that will search the reminding wrappers.\u001b[0m\n",
            "  logger.warn(\n",
            "/usr/local/lib/python3.10/dist-packages/gymnasium/utils/passive_env_checker.py:127: UserWarning: \u001b[33mWARN: The obs returned by the `step()` method should be an int or np.int64, actual type: <class 'list'>\u001b[0m\n",
            "  logger.warn(f\"{pre} should be an int or np.int64, actual type: {type(obs)}\")\n",
            "/usr/local/lib/python3.10/dist-packages/gymnasium/utils/passive_env_checker.py:159: UserWarning: \u001b[33mWARN: The obs returned by the `step()` method is not within the observation space.\u001b[0m\n",
            "  logger.warn(f\"{pre} is not within the observation space.\")\n"
          ]
        }
      ],
      "source": [
        "obs, info = env.reset()\n",
        "rewardsArray = []\n",
        "rewardTemp = 0\n",
        "iterationAccum = 100\n",
        "_state = [0] * 2720\n",
        "for i in range(100000):\n",
        "    if (i % iterationAccum) == 0:\n",
        "        rewardsArray.append(rewardTemp)\n",
        "        rewardTemp = 0\n",
        "    action, _states = model.predict(_state)\n",
        "    _state, _reward, terminated, truncated, info = env.step(action)\n",
        "    rewardTemp = rewardTemp + _reward\n",
        "print(episodeRewardsArray)\n",
        "print(rewardsArray, np.mean(rewardsArray[1:]))"
      ]
    },
    {
      "cell_type": "code",
      "execution_count": null,
      "metadata": {
        "id": "zHbVjYjhxyOH"
      },
      "outputs": [],
      "source": [
        "# %load_ext tensorboard\n",
        "# %tensorboard --logdir \"./tb/TRPO-DeepRBMLSA-v0/\""
      ]
    },
    {
      "cell_type": "code",
      "execution_count": null,
      "metadata": {
        "id": "zNdW2yTWxyfa"
      },
      "outputs": [],
      "source": []
    }
  ],
  "metadata": {
    "accelerator": "GPU",
    "colab": {
      "gpuType": "T4",
      "provenance": []
    },
    "kernelspec": {
      "display_name": "Python 3",
      "name": "python3"
    },
    "language_info": {
      "name": "python"
    }
  },
  "nbformat": 4,
  "nbformat_minor": 0
}
